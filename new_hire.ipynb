{
 "cells": [
  {
   "cell_type": "markdown",
   "metadata": {},
   "source": [
    "Reqs doc: https://docs.google.com/document/d/1mtteUV-zOIpfPYtCiA7bi7sfTnc4zc9k4e-sddl30qU/edit#heading=h.mnpj0vwpopw9\n",
    "\n",
    "Get the file from toolbox: https://toolbox.fhcrc.org/csv/employees.csv"
   ]
  },
  {
   "cell_type": "code",
   "execution_count": 1,
   "metadata": {},
   "outputs": [],
   "source": [
    "def get_employees(filepath):\n",
    "    \"\"\" takes a Toolbox csv filepath and retrieves it and exports as dataframe\n",
    "    \"\"\"\n",
    "    import pandas as pd\n",
    "    \n",
    "    if not filepath:\n",
    "        print(\"Please provide a Toolbox filepath to 'employees.csv'\")\n",
    "        return\n",
    "    try:\n",
    "        df =pd.read_csv(filepath, usecols=['employeeID','mail','hireDate','jobTitle','deptID'], parse_dates=['hireDate'], infer_datetime_format=True)\n",
    "        return df.drop_duplicates()\n",
    "    except:\n",
    "        print(\"Error: retrieving employees.csv\")"
   ]
  },
  {
   "cell_type": "markdown",
   "metadata": {},
   "source": [
    "Select new hires"
   ]
  },
  {
   "cell_type": "code",
   "execution_count": 2,
   "metadata": {},
   "outputs": [],
   "source": [
    "def new_hires(df, last_runtime):\n",
    "    \"\"\" selects new hires from employee.csv\n",
    "    \"\"\"\n",
    "    if not last_runtime:\n",
    "        print(\"Please provide a last_runtime value e.g. '1999-01-01'\")\n",
    "        return\n",
    "    try:\n",
    "        return df[df.hireDate >= last_runtime]\n",
    "    except:\n",
    "        print(\"Error: selecting new hires\")"
   ]
  },
  {
   "cell_type": "markdown",
   "metadata": {},
   "source": [
    "Select new hires by deptID"
   ]
  },
  {
   "cell_type": "code",
   "execution_count": 3,
   "metadata": {},
   "outputs": [],
   "source": [
    "def hires_by_deptID(df):\n",
    "    \"\"\" selects new hires by deptID\n",
    "    \"\"\"\n",
    "    deptID_list = ['PH06'] #`PH06`= Computational Biology \n",
    "    try:\n",
    "        return df[df.deptID.isin(deptID_list)]\n",
    "    except:\n",
    "        print(\"Error: selecting by deptID\")"
   ]
  },
  {
   "cell_type": "markdown",
   "metadata": {},
   "source": [
    "Select new hires by jobTitle"
   ]
  },
  {
   "cell_type": "code",
   "execution_count": 4,
   "metadata": {},
   "outputs": [],
   "source": [
    "def hires_by_jobTitle(df):\n",
    "    \"\"\"\" selects new hires by jobTitle\n",
    "    \"\"\"\n",
    "    jobTitle_list = ['Post-Doctoral Research Fellow',\n",
    "                     'Staff Scientist',\n",
    "                     'Research Techn II',\n",
    "                     'Graduate Research Asst',\n",
    "                     'Assistant Member',\n",
    "                     'Research Techn III',\n",
    "                     'Research Assc (PhD or MD)',\n",
    "                     'Sr Staff Scientist',\n",
    "                     'Research Techn IV',\n",
    "                     'Data Coord III',\n",
    "                     'Data Coord II',\n",
    "                     'Stat Research Assc II',\n",
    "                     'Stat Research Assc IV',\n",
    "                     'Stat Research Assc III',\n",
    "                     'Software Dev Engineer II',\n",
    "                     'Data Coord IV',\n",
    "                     'Software Dev Engineer III',\n",
    "                     'Statistical Analyst, Sr',\n",
    "                     'Principal Staff Scientist',\n",
    "                     'Stat Research Assc V',\n",
    "                     'Statistical Programmer III',\n",
    "                     'Research Asst (Pre-Doc)',\n",
    "                     'Statistical Programmer IV',\n",
    "                     'Software Dev Engineer IV',\n",
    "                     'Bioinformatics Analyst I',\n",
    "                     'Data Scientist I',\n",
    "                     'Bioinformatics Analyst III',\n",
    "                     'Stat Research Assc I'\n",
    "               ] # List of job titles taken from `dirks-issue.xlxs` and marked as \"yes\" or \"possibly\"\n",
    "    try:\n",
    "        return df[df.jobTitle.isin(jobTitle_list)]\n",
    "    except:\n",
    "        print(\"Error: selecting by jobTitle\")"
   ]
  },
  {
   "cell_type": "markdown",
   "metadata": {},
   "source": [
    "Email Function"
   ]
  },
  {
   "cell_type": "code",
   "execution_count": 5,
   "metadata": {},
   "outputs": [],
   "source": [
    "## Set up function to email \n",
    "# Graciously shared by Mike B who shamelessly stole it from stackoverflow :)\n",
    "# It uses the python built-in email package https://docs.python.org/3.4/library/email.html#module-email to create and send emails in an object model\n",
    "# You can start a local SMTP debugging server by typing the following in shell \"python -m smtpd -c DebuggingServer -n localhost:1025\" and set server to `localhost` in the send_mail()\n",
    "\n",
    "import smtplib\n",
    "import os.path as op\n",
    "from email.mime.multipart import MIMEMultipart\n",
    "from email.mime.base import MIMEBase\n",
    "from email.mime.text import MIMEText\n",
    "from email.utils import COMMASPACE, formatdate\n",
    "from email import encoders\n",
    "\n",
    "# create the function that will create and send emails\n",
    "def send_mail(send_from, send_to, subject, message, files=[],\n",
    "              server='mx.fhcrc.org', port=25, username='', password='',\n",
    "              use_tls=True):\n",
    "    '''Compose and send email with provided info and attachments.\n",
    "    Args:\n",
    "        send_from (str): from email address/name\n",
    "        send_to (str): common seperated list of email addresses\n",
    "        subject (str): email subject line\n",
    "        message (str): email body\n",
    "        files (list[str]): list of file paths to be attached to email\n",
    "        server (str): mail server host name\n",
    "        port (int): port number\n",
    "        username (str): server auth username\n",
    "        password (str): server auth password\n",
    "        use_tls (bool): use TLS mode\n",
    "    '''\n",
    "    # creates the container for the email message\n",
    "    msg = MIMEMultipart()\n",
    "    msg['From'] = send_from\n",
    "    msg['To'] = COMMASPACE.join(send_to)\n",
    "    msg['Date'] = formatdate(localtime=True)\n",
    "    msg['Subject'] = subject\n",
    "    \n",
    "    # handles any attachements\n",
    "    msg.attach(MIMEText(message))\n",
    "\n",
    "    for path in files:\n",
    "        part = MIMEBase('application', \"octet-stream\")\n",
    "        with open(path, 'rb') as file:\n",
    "            part.set_payload(file.read())\n",
    "        encoders.encode_base64(part)\n",
    "        part.add_header('Content-Disposition',\n",
    "                        'attachment; filename=\"{}\"'.format(op.basename(path)))\n",
    "        msg.attach(part)\n",
    "        \n",
    "    # initiates a SMTP connect and uses tls to secure the connection\n",
    "    smtp = smtplib.SMTP(server, port)\n",
    "    smtp.connect(server, port)\n",
    "    if use_tls:\n",
    "        smtp.starttls()\n",
    "        \n",
    "    #smtp.login(username, password)\n",
    "    # send email and quit SMTP\n",
    "    smtp.sendmail(send_from, send_to, msg.as_string())\n",
    "    smtp.quit()"
   ]
  },
  {
   "cell_type": "markdown",
   "metadata": {},
   "source": [
    "Function to run the process"
   ]
  },
  {
   "cell_type": "code",
   "execution_count": 6,
   "metadata": {},
   "outputs": [],
   "source": [
    "def run_process(test=True):\n",
    "    \"\"\" This function runs the whole process and logs accordingly.\n",
    "    Args:\n",
    "        test (bool): uses test parameters in functions. True by default.\n",
    "    \"\"\"\n",
    "    import pandas as pd\n",
    "    from datetime import datetime, timedelta\n",
    "    \n",
    "    import logging\n",
    "    # Set up logging (start time, end time, toolbox output for each run, any errors (from toolbox fun or email returns))\n",
    "\n",
    "    import json\n",
    "    # Load and assign config values from 'config.txt'\n",
    "    config = json.load(open(\"config.txt\"))\n",
    "    \n",
    "    # 1. Get the `last_runtime` value. This assumes that the CRON job is run every week\n",
    "    last_runtime = datetime.today() - timedelta(days=7)\n",
    "    last_runtime = last_runtime.strftime('%Y-%m-%d')\n",
    "    \n",
    "    filepath = config[\"filepath\"]\n",
    "    \n",
    "    if test:\n",
    "        last_runtime = '1999-01-01'\n",
    "        filepath = config[\"test_filepath\"]\n",
    "        \n",
    "    # 2. Get the file from toolbox and then select new hires\n",
    "    try:\n",
    "        new_hires_df = new_hires(get_employees(filepath), last_runtime) # retrieve employee.csv and filter down to new hires from the employee.csv table from toolbox\n",
    "    except:\n",
    "        print(\"Error: retrieving new hires\")\n",
    "        \n",
    "    # 3. Select new hires by deptID\n",
    "    try:\n",
    "        hires_by_deptID_df = hires_by_deptID(new_hires_df)\n",
    "    \n",
    "    # 4. Select new hires by jobTitle\n",
    "        hires_by_jobTitle_df = hires_by_jobTitle(new_hires_df)\n",
    "    except:\n",
    "        print(\"Error: retrieving hires by deptID & jobTitle\")\n",
    "    \n",
    "    # 5. Extract the email addresses from the list of new hires and remove duplicates\n",
    "    email_addresses = hires_by_deptID_df['mail'].tolist() + hires_by_jobTitle_df['mail'].tolist()\n",
    "    email_addresses = list(set(email_addresses))\n",
    "    \n",
    "    # 6. Compose the email\n",
    "    send_from = config[\"send_from\"]\n",
    "    send_to = email_addresses\n",
    "    subject = config[\"subject\"]\n",
    "    message = config[\"message\"]\n",
    "    \n",
    "    if test:\n",
    "        send_to = config[\"test_send_to\"]\n",
    "        message = \"THIS MESSAGE:-->\" + message + \"<--WOULD GO TO THESE ADDRESSES: \" + ', '.join(email_addresses)\n",
    "        \n",
    "    # 7. Send emails. To test emails locally and send to localhost set these parameters; \"port = 1025\", \"server = `localhost`\", and \"use_tls = False\" after setting up a local SMTP debugging server\n",
    "    # You can start a local SMTP debugging server by typing the following in shell \"python -m smtpd -c DebuggingServer -n localhost:1025\" and set server to `localhost` in the send_mail()\n",
    "    if test:\n",
    "        try:\n",
    "            send_mail(send_from, send_to, subject, message, port=1025, server='localhost', use_tls=False) # for debugging/testing purposes\n",
    "        except:\n",
    "            print(\"Error: sending emails\")\n",
    "    else:\n",
    "        try:\n",
    "            send_mail(send_from, send_to, subject, message) # fires off email in production\n",
    "        except:\n",
    "            print(\"Error: sending emails\")\n",
    "        \n",
    "    # 8. Logging and error reporting\n",
    "    "
   ]
  },
  {
   "cell_type": "code",
   "execution_count": 7,
   "metadata": {},
   "outputs": [],
   "source": [
    "run_process(test=True)"
   ]
  },
  {
   "cell_type": "markdown",
   "metadata": {
    "jupyter": {
     "source_hidden": true
    }
   },
   "source": [
    "Step-wise procedure for run process"
   ]
  },
  {
   "cell_type": "code",
   "execution_count": 8,
   "metadata": {
    "jupyter": {
     "source_hidden": true
    }
   },
   "outputs": [],
   "source": [
    "import pandas as pd\n",
    "from datetime import datetime, timedelta\n",
    "\n",
    "# 1. Get the `last_runtime` value. This assumes that the CRON job is run every week\n",
    "last_runtime = datetime.today() - timedelta(days=7)\n",
    "last_runtime = last_runtime.strftime('%Y-%m-%d')\n",
    "last_runtime = '1999-01-01' # dont forget to swap out date comparsion value to `last_runtime`\n",
    "filepath = \"/Users/jburge/Documents/jupyter_notebooks/employees_TEST.csv\""
   ]
  },
  {
   "cell_type": "code",
   "execution_count": 9,
   "metadata": {
    "jupyter": {
     "source_hidden": true
    }
   },
   "outputs": [],
   "source": [
    "# 2. Get the file from toolbox and then select new hires\n",
    "new_hires_df = new_hires(get_employees(filepath), last_runtime) # retrieve employee.csv and filter down to new hires from the employee.csv table from toolbox"
   ]
  },
  {
   "cell_type": "code",
   "execution_count": 10,
   "metadata": {
    "collapsed": true,
    "jupyter": {
     "outputs_hidden": true,
     "source_hidden": true
    }
   },
   "outputs": [
    {
     "data": {
      "text/html": [
       "<div>\n",
       "<style scoped>\n",
       "    .dataframe tbody tr th:only-of-type {\n",
       "        vertical-align: middle;\n",
       "    }\n",
       "\n",
       "    .dataframe tbody tr th {\n",
       "        vertical-align: top;\n",
       "    }\n",
       "\n",
       "    .dataframe thead th {\n",
       "        text-align: right;\n",
       "    }\n",
       "</style>\n",
       "<table border=\"1\" class=\"dataframe\">\n",
       "  <thead>\n",
       "    <tr style=\"text-align: right;\">\n",
       "      <th></th>\n",
       "      <th>employeeID</th>\n",
       "      <th>mail</th>\n",
       "      <th>hireDate</th>\n",
       "      <th>deptID</th>\n",
       "      <th>jobTitle</th>\n",
       "    </tr>\n",
       "  </thead>\n",
       "  <tbody>\n",
       "    <tr>\n",
       "      <th>1</th>\n",
       "      <td>69708</td>\n",
       "      <td>sfranks@frebhutch.org</td>\n",
       "      <td>2018-02-20</td>\n",
       "      <td>PH06</td>\n",
       "      <td>Stat Research Assc IV</td>\n",
       "    </tr>\n",
       "    <tr>\n",
       "      <th>4</th>\n",
       "      <td>70022</td>\n",
       "      <td>jwind@frebhutch.org</td>\n",
       "      <td>2019-02-01</td>\n",
       "      <td>PH06</td>\n",
       "      <td>IT Service Desk Engineer I</td>\n",
       "    </tr>\n",
       "    <tr>\n",
       "      <th>12</th>\n",
       "      <td>70433</td>\n",
       "      <td>jsmith@frebhutch.org</td>\n",
       "      <td>2019-09-25</td>\n",
       "      <td>PH06</td>\n",
       "      <td>Training/Education Spec II</td>\n",
       "    </tr>\n",
       "    <tr>\n",
       "      <th>17</th>\n",
       "      <td>69944</td>\n",
       "      <td>cmacco@frebhutch.org</td>\n",
       "      <td>2018-02-21</td>\n",
       "      <td>PH06</td>\n",
       "      <td>Admin Coord II</td>\n",
       "    </tr>\n",
       "  </tbody>\n",
       "</table>\n",
       "</div>"
      ],
      "text/plain": [
       "    employeeID                   mail   hireDate deptID  \\\n",
       "1        69708  sfranks@frebhutch.org 2018-02-20   PH06   \n",
       "4        70022    jwind@frebhutch.org 2019-02-01   PH06   \n",
       "12       70433   jsmith@frebhutch.org 2019-09-25   PH06   \n",
       "17       69944   cmacco@frebhutch.org 2018-02-21   PH06   \n",
       "\n",
       "                      jobTitle  \n",
       "1        Stat Research Assc IV  \n",
       "4   IT Service Desk Engineer I  \n",
       "12  Training/Education Spec II  \n",
       "17              Admin Coord II  "
      ]
     },
     "execution_count": 10,
     "metadata": {},
     "output_type": "execute_result"
    }
   ],
   "source": [
    "# 3. Select new hires by deptID\n",
    "hires_by_deptID_df = hires_by_deptID(new_hires_df)\n",
    "hires_by_deptID_df"
   ]
  },
  {
   "cell_type": "code",
   "execution_count": 11,
   "metadata": {
    "collapsed": true,
    "jupyter": {
     "outputs_hidden": true,
     "source_hidden": true
    }
   },
   "outputs": [
    {
     "data": {
      "text/html": [
       "<div>\n",
       "<style scoped>\n",
       "    .dataframe tbody tr th:only-of-type {\n",
       "        vertical-align: middle;\n",
       "    }\n",
       "\n",
       "    .dataframe tbody tr th {\n",
       "        vertical-align: top;\n",
       "    }\n",
       "\n",
       "    .dataframe thead th {\n",
       "        text-align: right;\n",
       "    }\n",
       "</style>\n",
       "<table border=\"1\" class=\"dataframe\">\n",
       "  <thead>\n",
       "    <tr style=\"text-align: right;\">\n",
       "      <th></th>\n",
       "      <th>employeeID</th>\n",
       "      <th>mail</th>\n",
       "      <th>hireDate</th>\n",
       "      <th>deptID</th>\n",
       "      <th>jobTitle</th>\n",
       "    </tr>\n",
       "  </thead>\n",
       "  <tbody>\n",
       "    <tr>\n",
       "      <th>0</th>\n",
       "      <td>70585</td>\n",
       "      <td>brobbin@frebhutch.org</td>\n",
       "      <td>2018-04-01</td>\n",
       "      <td>VI0104</td>\n",
       "      <td>Post-Doctoral Research Fellow</td>\n",
       "    </tr>\n",
       "    <tr>\n",
       "      <th>1</th>\n",
       "      <td>69708</td>\n",
       "      <td>sfranks@frebhutch.org</td>\n",
       "      <td>2018-02-20</td>\n",
       "      <td>PH06</td>\n",
       "      <td>Stat Research Assc IV</td>\n",
       "    </tr>\n",
       "    <tr>\n",
       "      <th>6</th>\n",
       "      <td>70177</td>\n",
       "      <td>iseacop@frebhutch.org</td>\n",
       "      <td>2018-02-26</td>\n",
       "      <td>HD01</td>\n",
       "      <td>Software Dev Engineer III</td>\n",
       "    </tr>\n",
       "    <tr>\n",
       "      <th>8</th>\n",
       "      <td>69246</td>\n",
       "      <td>rleaf@frebhutch.org</td>\n",
       "      <td>2018-03-01</td>\n",
       "      <td>CB44</td>\n",
       "      <td>Assistant Member</td>\n",
       "    </tr>\n",
       "    <tr>\n",
       "      <th>9</th>\n",
       "      <td>69561</td>\n",
       "      <td>kchambr@frebhutch.org</td>\n",
       "      <td>2018-02-15</td>\n",
       "      <td>AD10</td>\n",
       "      <td>Stat Research Assc IV</td>\n",
       "    </tr>\n",
       "    <tr>\n",
       "      <th>13</th>\n",
       "      <td>69755</td>\n",
       "      <td>jhills@frebhutch.org</td>\n",
       "      <td>2018-06-11</td>\n",
       "      <td>AD06</td>\n",
       "      <td>Data Scientist I</td>\n",
       "    </tr>\n",
       "    <tr>\n",
       "      <th>19</th>\n",
       "      <td>69442</td>\n",
       "      <td>egreys@frebhutch.org</td>\n",
       "      <td>2018-07-16</td>\n",
       "      <td>CR1310</td>\n",
       "      <td>Research Techn II</td>\n",
       "    </tr>\n",
       "  </tbody>\n",
       "</table>\n",
       "</div>"
      ],
      "text/plain": [
       "    employeeID                   mail   hireDate  deptID  \\\n",
       "0        70585  brobbin@frebhutch.org 2018-04-01  VI0104   \n",
       "1        69708  sfranks@frebhutch.org 2018-02-20    PH06   \n",
       "6        70177  iseacop@frebhutch.org 2018-02-26    HD01   \n",
       "8        69246    rleaf@frebhutch.org 2018-03-01    CB44   \n",
       "9        69561  kchambr@frebhutch.org 2018-02-15    AD10   \n",
       "13       69755   jhills@frebhutch.org 2018-06-11    AD06   \n",
       "19       69442   egreys@frebhutch.org 2018-07-16  CR1310   \n",
       "\n",
       "                         jobTitle  \n",
       "0   Post-Doctoral Research Fellow  \n",
       "1           Stat Research Assc IV  \n",
       "6       Software Dev Engineer III  \n",
       "8                Assistant Member  \n",
       "9           Stat Research Assc IV  \n",
       "13               Data Scientist I  \n",
       "19              Research Techn II  "
      ]
     },
     "execution_count": 11,
     "metadata": {},
     "output_type": "execute_result"
    }
   ],
   "source": [
    "# 4. Select new hires by jobTitle\n",
    "hires_by_jobTitle_df = hires_by_jobTitle(new_hires_df)\n",
    "hires_by_jobTitle_df"
   ]
  },
  {
   "cell_type": "code",
   "execution_count": 12,
   "metadata": {
    "collapsed": true,
    "jupyter": {
     "outputs_hidden": true,
     "source_hidden": true
    }
   },
   "outputs": [
    {
     "data": {
      "text/plain": [
       "['brobbin@frebhutch.org',\n",
       " 'jwind@frebhutch.org',\n",
       " 'sfranks@frebhutch.org',\n",
       " 'kchambr@frebhutch.org',\n",
       " 'jhills@frebhutch.org',\n",
       " 'jsmith@frebhutch.org',\n",
       " 'rleaf@frebhutch.org',\n",
       " 'egreys@frebhutch.org',\n",
       " 'iseacop@frebhutch.org',\n",
       " 'cmacco@frebhutch.org']"
      ]
     },
     "execution_count": 12,
     "metadata": {},
     "output_type": "execute_result"
    }
   ],
   "source": [
    "# 5. Extract the email addresses from the list of new hires\n",
    "email_addresses = hires_by_deptID_df['mail'].tolist() + hires_by_jobTitle_df['mail'].tolist()\n",
    "email_addresses = list(set(email_addresses))\n",
    "email_addresses"
   ]
  },
  {
   "cell_type": "code",
   "execution_count": 13,
   "metadata": {
    "jupyter": {
     "source_hidden": true
    }
   },
   "outputs": [],
   "source": [
    "# 6. Compose the email\n",
    "email_addresses_TEST = ['jburge@fredhutch.org', 'coophelp@fredhutch.org'] # FOR TESTING PURPOSES\n",
    "\n",
    "send_from = 'coophelp@fredhutch.org'\n",
    "send_to = email_addresses_TEST # change to `email_addresses` for production\n",
    "subject = \"Welcome: New Employee Coop Orientation\"\n",
    "message = \"Here are the email addresses: \" + \", \".join(email_addresses)"
   ]
  },
  {
   "cell_type": "code",
   "execution_count": 14,
   "metadata": {
    "jupyter": {
     "source_hidden": true
    }
   },
   "outputs": [],
   "source": [
    "# 7. Send emails. To test emails locally and send to localhost set these parameters; \"port = 1025\", \"server = `localhost`\", and \"use_tls = False\" after setting up a local SMTP debugging server\n",
    "# You can start a local SMTP debugging server by typing the following in shell \"python -m smtpd -c DebuggingServer -n localhost:1025\" and set server to `localhost` in the send_mail()\n",
    "send_mail(send_from, send_to, subject, message, port=1025, server='localhost', use_tls=False) # for debugging/testing purposes\n",
    "# send_mail(send_from, send_to, subject, message) # fires off email in production"
   ]
  },
  {
   "cell_type": "code",
   "execution_count": 100,
   "metadata": {
    "jupyter": {
     "source_hidden": true
    }
   },
   "outputs": [],
   "source": [
    "# 8. Log processes, successful runs, sends, and errors\n",
    "import logging\n",
    "    # Set up logging (start time, end time, toolbox output for each run, any errors (from toolbox fun or email returns))"
   ]
  }
 ],
 "metadata": {
  "kernelspec": {
   "display_name": "Python 3",
   "language": "python",
   "name": "python3"
  },
  "language_info": {
   "codemirror_mode": {
    "name": "ipython",
    "version": 3
   },
   "file_extension": ".py",
   "mimetype": "text/x-python",
   "name": "python",
   "nbconvert_exporter": "python",
   "pygments_lexer": "ipython3",
   "version": "3.8.2"
  }
 },
 "nbformat": 4,
 "nbformat_minor": 4
}
